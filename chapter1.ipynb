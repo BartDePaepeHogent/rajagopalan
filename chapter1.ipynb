{
 "cells": [
  {
   "cell_type": "code",
   "execution_count": 1,
   "metadata": {
    "collapsed": true
   },
   "outputs": [
    {
     "name": "stdout",
     "output_type": "stream",
     "text": [
      "hello world\n"
     ]
    }
   ],
   "source": [
    "print(\"hello world\")"
   ]
  },
  {
   "cell_type": "markdown",
   "source": [
    "Hello world"
   ],
   "metadata": {
    "collapsed": false,
    "pycharm": {
     "name": "#%% md\n"
    }
   }
  },
  {
   "cell_type": "code",
   "execution_count": 3,
   "outputs": [
    {
     "name": "stdout",
     "output_type": "stream",
     "text": [
      "36.3 ms ± 1.57 ms per loop (mean ± std. dev. of 7 runs, 10 loops each)\n"
     ]
    }
   ],
   "source": [
    "%%timeit\n",
    "for i in range(1000000):\n",
    "    i*i"
   ],
   "metadata": {
    "collapsed": false,
    "pycharm": {
     "name": "#%%\n"
    }
   }
  },
  {
   "cell_type": "code",
   "execution_count": 4,
   "outputs": [
    {
     "data": {
      "text/plain": "float"
     },
     "execution_count": 4,
     "metadata": {},
     "output_type": "execute_result"
    }
   ],
   "source": [
    "type(45.3)"
   ],
   "metadata": {
    "collapsed": false,
    "pycharm": {
     "name": "#%%\n"
    }
   }
  },
  {
   "cell_type": "code",
   "execution_count": 5,
   "outputs": [
    {
     "data": {
      "text/plain": "range(0, 5)"
     },
     "execution_count": 5,
     "metadata": {},
     "output_type": "execute_result"
    }
   ],
   "source": [
    "c = range(5)\n",
    "c"
   ],
   "metadata": {
    "collapsed": false,
    "pycharm": {
     "name": "#%%\n"
    }
   }
  },
  {
   "cell_type": "code",
   "execution_count": 6,
   "outputs": [
    {
     "name": "stdout",
     "output_type": "stream",
     "text": [
      "range(0, 5)\n"
     ]
    }
   ],
   "source": [
    "print(c)"
   ],
   "metadata": {
    "collapsed": false,
    "pycharm": {
     "name": "#%%\n"
    }
   }
  },
  {
   "cell_type": "code",
   "execution_count": 7,
   "outputs": [
    {
     "name": "stdout",
     "output_type": "stream",
     "text": [
      "Enter only an integer value\n",
      "you obtained a score of  1\n"
     ]
    }
   ],
   "source": [
    "while True:\n",
    "    try:\n",
    "        n=int(input('enter your score:'))\n",
    "        print('you obtained a score of ',n)\n",
    "        break\n",
    "    except ValueError:\n",
    "        print('Enter only an integer value')"
   ],
   "metadata": {
    "collapsed": false,
    "pycharm": {
     "name": "#%%\n"
    }
   }
  },
  {
   "cell_type": "markdown",
   "source": [
    "Reading from a file"
   ],
   "metadata": {
    "collapsed": false,
    "pycharm": {
     "name": "#%% md\n"
    }
   }
  },
  {
   "cell_type": "code",
   "execution_count": 8,
   "outputs": [
    {
     "data": {
      "text/plain": "['n1',\n 'n2',\n 'n3',\n 'n4',\n 'eng',\n 'klb',\n 'kalb',\n 'kelb',\n '',\n 'dog',\n 'mch',\n 'moch',\n 'mech',\n '',\n 'cat',\n '7mar',\n 'hmar',\n 'himar',\n '',\n 'donkey',\n 'zarafa',\n '',\n '',\n '',\n 'giraffe',\n 'sb3',\n 'sbe3',\n 'sbaa',\n 'sba3',\n 'lion',\n 'djaja',\n '',\n '',\n '',\n 'chicken',\n 'frouj',\n 'farrouj',\n 'farouj',\n '',\n 'cock',\n 'ghzala',\n '',\n '',\n '',\n 'gazelle',\n 'nmr',\n 'nmer',\n 'nmar',\n '',\n 'tiger',\n 'Db3',\n 'Dbe3',\n 'Dbaa',\n 'Dba3',\n 'hyena',\n '7out',\n 'hout',\n 'houte',\n '',\n 'fish',\n 'nmla',\n 'nemla',\n '',\n '',\n 'ant',\n 'fkroun',\n 'fekroun',\n 'fakroun',\n '',\n 'turtle',\n 'brbouch',\n 'beboch',\n 'babbouch',\n 'berbouch',\n 'snail',\n 'bghl',\n 'bghel',\n 'bghal',\n '',\n 'mule',\n '3awd',\n 'aawd',\n '3aoud',\n '',\n 'horse',\n 'khrouf',\n '5rouf',\n '5rof',\n 'khrof',\n 'sheep',\n '7awli',\n 'hawli',\n 'hewli',\n '7ouli',\n 'sheep',\n 'n3ja',\n 'ne3ja',\n 'na3ja',\n '',\n 'sheep',\n 'm3za',\n 'ma3za',\n 'me3za',\n 'maaza',\n 'goat',\n 'timsa7',\n 'timsah',\n '',\n '',\n 'crocodile',\n 'fil',\n 'fyl',\n '',\n '',\n 'elephant',\n '3jl',\n '3jel',\n '3jal',\n 'aajel',\n 'calf',\n 'dib',\n 'dyb',\n '',\n '',\n 'wolf',\n '7llouf',\n '7allouf',\n 'hallouf',\n 'hellouf',\n 'pig',\n '9rd',\n '9ard',\n 'qard',\n '9erd',\n 'monkey',\n 'Tobba',\n '',\n '',\n '',\n 'rat',\n 'jml',\n 'jmal',\n 'jmel',\n '',\n 'camel',\n 'dlfin',\n 'delfin',\n 'dalfine',\n '',\n 'dolphin',\n 'moka',\n 'mouka',\n '',\n '',\n 'owl',\n 't3lb',\n 'the3leb',\n 'ta3lab',\n 'te3leb',\n 'fox',\n 'bgra',\n 'bagra',\n 'begra',\n '',\n 'cow',\n 'dobb',\n 'dob',\n '',\n '',\n 'bear',\n '9niwna',\n '9nia',\n 'qnia',\n '',\n 'rabbit',\n 'Twiyer',\n 'Twyer',\n 'Ter',\n 'Tir',\n 'bird',\n 'ti9lit',\n 'ti9lita',\n 'tiqlit',\n '',\n 'lizard',\n 'babbagha',\n 'babbaghio',\n 'babaghyo',\n 'babbagha2',\n 'parrot',\n 'far',\n '',\n '',\n '',\n 'mouse',\n 'bTTa',\n 'baTTa',\n 'beTTa',\n '',\n 'duck',\n 'crevit',\n '',\n '',\n '',\n 'shrimps',\n 'bibi',\n '',\n '',\n '',\n 'turkey',\n 'n7la',\n 'na7la',\n 'ne7la',\n '',\n 'bee',\n 'ghrab',\n 'ghorab',\n '',\n '',\n 'crow',\n '7mama',\n 'hmama',\n '',\n '',\n 'pigeon',\n 'bllarj',\n 'bellarj',\n 'belarj',\n 'belarj',\n 'stork',\n 'n3ama',\n 'naama',\n '',\n '',\n 'ostrich',\n 'gnfoud',\n 'ganfoud',\n '',\n '',\n 'hedgehog',\n 'khffach',\n 'khoffach',\n '5ofach',\n '5offach',\n 'bat',\n 'jrana',\n '',\n '',\n '',\n 'frog',\n 'sinjab',\n '',\n '',\n '',\n 'squirrel',\n '7nch',\n '7ench',\n '7anch',\n 'hench',\n 'snake',\n 'okhToboT',\n '',\n '',\n '',\n 'octopus',\n '9irch',\n 'qirch',\n '',\n '',\n 'shark',\n 'nsr',\n 'nser',\n '',\n '',\n 'eagle',\n 'biTri9',\n 'biTriq',\n '',\n '',\n 'penguin',\n 'faracha',\n '',\n '',\n '',\n 'butterfly',\n 'rtila',\n '',\n '',\n '',\n 'spider',\n '3grba',\n 'aagrba',\n '3garba',\n '',\n 'scorpion',\n 'namousa',\n 'namosa',\n '',\n '',\n 'mosquito',\n 'dbbana',\n 'debana',\n 'dbana',\n '',\n 'fly',\n 'dbban',\n 'deban',\n 'dban',\n '',\n 'flies',\n 'jrada',\n '',\n '',\n '',\n 'grasshopper',\n 'jrada',\n '',\n '',\n '',\n 'grasshoppers',\n 'douda',\n '',\n '',\n '',\n 'worm',\n 'doud',\n '',\n '',\n '',\n 'worms',\n '7ayawan',\n 'hayawan',\n '',\n '',\n 'animal',\n '7achara',\n 'hachara',\n '',\n '',\n 'insect',\n '7acharat',\n 'hacharat',\n '',\n '',\n 'insects',\n '7ayawanat',\n 'hayawanat',\n '',\n '',\n 'animals',\n '3oSfor',\n '',\n '',\n '',\n 'bird',\n 'tour',\n 'thour',\n 'thor',\n 'tor',\n 'bull',\n 'samaka',\n '',\n '',\n '',\n 'fish',\n 'daynaSour',\n 'daynaSor',\n '',\n '',\n 'dinosaur',\n 'bobris',\n 'boubris',\n 'bobriss',\n 'boubriss',\n 'lizard',\n '9ondos',\n '',\n '',\n '',\n 'beaver',\n 'b8ima',\n 'bhima',\n '',\n '',\n 'cattle',\n 'wzza',\n 'wezza',\n '',\n '',\n 'goose',\n 'Taws',\n 'Taawous',\n 'Tawous',\n '',\n 'peafowl',\n 'srdin',\n '',\n '',\n '',\n 'sardine',\n 'smTa',\n 'semTa',\n 'samTa',\n '',\n 'eel',\n 'fo9ma',\n 'foqma',\n '',\n '',\n 'seal',\n 'srra9zzit',\n 'srra9 zzit',\n 'srra9 zit',\n '',\n 'cockroach',\n 'boj3ran',\n 'bouj3ran',\n '',\n '',\n 'cockroach',\n 'gml',\n 'gmel',\n 'gmal',\n '',\n 'louses',\n 'mn9ar',\n 'man9ar',\n 'men9ar',\n 'manqar',\n 'beak',\n 'jna7',\n 'jnah',\n '',\n '',\n 'wing',\n 'richa',\n 'rycha',\n '',\n '',\n 'feather',\n 'ghoul',\n 'ghol',\n '',\n '',\n 'beast',\n 'faras nna8r',\n 'faras nnahr',\n '',\n '',\n 'hippopotamus',\n 'wa7id l9arn',\n 'wahid l9arn',\n 'wahid lqarn',\n '',\n 'rhinoceros',\n '7imar wa7chi',\n '7imar w7chi',\n '',\n '',\n 'zebra',\n 'ghzala',\n '',\n '',\n '',\n 'deer',\n 'fa8d',\n 'fahd',\n 'fehd',\n '',\n 'leopard',\n 'ferrouj',\n 'frroj',\n 'farouj',\n '',\n 'cock',\n '8od8od',\n 'hodhod',\n '',\n '',\n 'hoopoe',\n 'hamster',\n '8amster',\n '',\n '',\n 'hamster',\n 'panda',\n 'ppanda',\n '',\n '',\n 'panda',\n 'llama',\n '',\n '',\n '',\n 'llama',\n 'koala',\n 'kwala',\n 'kowala',\n '',\n 'koala']"
     },
     "execution_count": 8,
     "metadata": {},
     "output_type": "execute_result"
    }
   ],
   "source": [
    "import csv\n",
    "with open('animals.csv') as f:\n",
    "    contents=csv.reader(f)\n",
    "    lines_of_file=[]\n",
    "    for line in contents:\n",
    "        lines_of_file+=line\n",
    "lines_of_file"
   ],
   "metadata": {
    "collapsed": false,
    "pycharm": {
     "name": "#%%\n"
    }
   }
  },
  {
   "cell_type": "code",
   "execution_count": null,
   "outputs": [],
   "source": [
    "import matplotlib\n",
    "import math\n",
    "def sin_angle(x):\n",
    "    y=math.radians(x)\n",
    "    return math.sin(y)\n",
    "\n"
   ],
   "metadata": {
    "collapsed": false,
    "pycharm": {
     "name": "#%%\n"
    }
   }
  }
 ],
 "metadata": {
  "kernelspec": {
   "display_name": "Python 3",
   "language": "python",
   "name": "python3"
  },
  "language_info": {
   "codemirror_mode": {
    "name": "ipython",
    "version": 2
   },
   "file_extension": ".py",
   "mimetype": "text/x-python",
   "name": "python",
   "nbconvert_exporter": "python",
   "pygments_lexer": "ipython2",
   "version": "2.7.6"
  }
 },
 "nbformat": 4,
 "nbformat_minor": 0
}