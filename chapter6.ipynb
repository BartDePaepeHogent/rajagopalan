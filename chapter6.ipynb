{
 "cells": [
  {
   "cell_type": "code",
   "execution_count": 3,
   "metadata": {
    "collapsed": true
   },
   "outputs": [
    {
     "name": "stdout",
     "output_type": "stream",
     "text": [
      "9\n",
      "9\n",
      "(9,)\n",
      "[1 2 3 4 5 6 7 8 9]\n",
      "RangeIndex(start=0, stop=9, step=1)\n"
     ]
    }
   ],
   "source": [
    "import pandas as pd\n",
    "import numpy as np\n",
    "\n",
    "pd.Series(2)\n",
    "pd.Series([2]*5)\n",
    "pd.Series(list('hello'))\n",
    "pd.Series({1:'India',2:'Japan',3:'Singapore'})\n",
    "pd.Series(np.arange(1,5))\n",
    "pd.Series(np.random.normal(size=4))\n",
    "pd.Series([2,0,1,6], index=['a','b','c','d'])\n",
    "x=pd.Series(np.arange(1,10))\n",
    "print(x.size)\n",
    "print(len(x))\n",
    "print(x.shape)\n",
    "print(x.values)\n",
    "print(x.index)"
   ]
  },
  {
   "cell_type": "code",
   "execution_count": 5,
   "outputs": [
    {
     "name": "stdout",
     "output_type": "stream",
     "text": [
      "a    2\n",
      "b    2\n",
      "c    1\n",
      "d    1\n",
      "dtype: int64\n",
      "a    2\n",
      "b    2\n",
      "dtype: int64\n"
     ]
    },
    {
     "data": {
      "text/plain": "array([2, 2], dtype=int64)"
     },
     "execution_count": 5,
     "metadata": {},
     "output_type": "execute_result"
    }
   ],
   "source": [
    "z=pd.Series(['a','b','a','c','d','b'])\n",
    "print(z.value_counts())\n",
    "print(z.value_counts().head(2))\n",
    "z.value_counts()\\\n",
    ".head(2)\\\n",
    ".values"
   ],
   "metadata": {
    "collapsed": false,
    "pycharm": {
     "name": "#%%\n"
    }
   }
  },
  {
   "cell_type": "code",
   "execution_count": 6,
   "outputs": [
    {
     "data": {
      "text/plain": "   class 1  class 2  class 3\n0       22       24       20\n1       40       50       45",
      "text/html": "<div>\n<style scoped>\n    .dataframe tbody tr th:only-of-type {\n        vertical-align: middle;\n    }\n\n    .dataframe tbody tr th {\n        vertical-align: top;\n    }\n\n    .dataframe thead th {\n        text-align: right;\n    }\n</style>\n<table border=\"1\" class=\"dataframe\">\n  <thead>\n    <tr style=\"text-align: right;\">\n      <th></th>\n      <th>class 1</th>\n      <th>class 2</th>\n      <th>class 3</th>\n    </tr>\n  </thead>\n  <tbody>\n    <tr>\n      <th>0</th>\n      <td>22</td>\n      <td>24</td>\n      <td>20</td>\n    </tr>\n    <tr>\n      <th>1</th>\n      <td>40</td>\n      <td>50</td>\n      <td>45</td>\n    </tr>\n  </tbody>\n</table>\n</div>"
     },
     "execution_count": 6,
     "metadata": {},
     "output_type": "execute_result"
    }
   ],
   "source": [
    "student_ages=pd.Series([22,24,20])\n",
    "teacher_ages=pd.Series([40,50,45])\n",
    "combined_ages=pd.DataFrame([student_ages,teacher_ages])\n",
    "combined_ages.columns=['class 1','class 2','class 3']\n",
    "combined_ages"
   ],
   "metadata": {
    "collapsed": false,
    "pycharm": {
     "name": "#%%\n"
    }
   }
  },
  {
   "cell_type": "code",
   "execution_count": 7,
   "outputs": [
    {
     "data": {
      "text/plain": "   class 1  class 2  class 3\n0       22       24       20\n1       40       50       45",
      "text/html": "<div>\n<style scoped>\n    .dataframe tbody tr th:only-of-type {\n        vertical-align: middle;\n    }\n\n    .dataframe tbody tr th {\n        vertical-align: top;\n    }\n\n    .dataframe thead th {\n        text-align: right;\n    }\n</style>\n<table border=\"1\" class=\"dataframe\">\n  <thead>\n    <tr style=\"text-align: right;\">\n      <th></th>\n      <th>class 1</th>\n      <th>class 2</th>\n      <th>class 3</th>\n    </tr>\n  </thead>\n  <tbody>\n    <tr>\n      <th>0</th>\n      <td>22</td>\n      <td>24</td>\n      <td>20</td>\n    </tr>\n    <tr>\n      <th>1</th>\n      <td>40</td>\n      <td>50</td>\n      <td>45</td>\n    </tr>\n  </tbody>\n</table>\n</div>"
     },
     "execution_count": 7,
     "metadata": {},
     "output_type": "execute_result"
    }
   ],
   "source": [
    "combined_ages=pd.DataFrame({'class 1':[22,40],'class 2':[24,50],'class 3':[20,45]})\n",
    "combined_ages"
   ],
   "metadata": {
    "collapsed": false,
    "pycharm": {
     "name": "#%%\n"
    }
   }
  },
  {
   "cell_type": "code",
   "execution_count": 8,
   "outputs": [
    {
     "data": {
      "text/plain": "   0  1  2  3\n0  1  2  3  4\n1  5  6  7  8",
      "text/html": "<div>\n<style scoped>\n    .dataframe tbody tr th:only-of-type {\n        vertical-align: middle;\n    }\n\n    .dataframe tbody tr th {\n        vertical-align: top;\n    }\n\n    .dataframe thead th {\n        text-align: right;\n    }\n</style>\n<table border=\"1\" class=\"dataframe\">\n  <thead>\n    <tr style=\"text-align: right;\">\n      <th></th>\n      <th>0</th>\n      <th>1</th>\n      <th>2</th>\n      <th>3</th>\n    </tr>\n  </thead>\n  <tbody>\n    <tr>\n      <th>0</th>\n      <td>1</td>\n      <td>2</td>\n      <td>3</td>\n      <td>4</td>\n    </tr>\n    <tr>\n      <th>1</th>\n      <td>5</td>\n      <td>6</td>\n      <td>7</td>\n      <td>8</td>\n    </tr>\n  </tbody>\n</table>\n</div>"
     },
     "execution_count": 8,
     "metadata": {},
     "output_type": "execute_result"
    }
   ],
   "source": [
    "numerical_df=pd.DataFrame(np.arange(1,9).reshape(2,4))\n",
    "numerical_df"
   ],
   "metadata": {
    "collapsed": false,
    "pycharm": {
     "name": "#%%\n"
    }
   }
  },
  {
   "cell_type": "code",
   "execution_count": 9,
   "outputs": [
    {
     "data": {
      "text/plain": "   class 1  class 2  class 3\n0       22       24       20\n1       40       50       45",
      "text/html": "<div>\n<style scoped>\n    .dataframe tbody tr th:only-of-type {\n        vertical-align: middle;\n    }\n\n    .dataframe tbody tr th {\n        vertical-align: top;\n    }\n\n    .dataframe thead th {\n        text-align: right;\n    }\n</style>\n<table border=\"1\" class=\"dataframe\">\n  <thead>\n    <tr style=\"text-align: right;\">\n      <th></th>\n      <th>class 1</th>\n      <th>class 2</th>\n      <th>class 3</th>\n    </tr>\n  </thead>\n  <tbody>\n    <tr>\n      <th>0</th>\n      <td>22</td>\n      <td>24</td>\n      <td>20</td>\n    </tr>\n    <tr>\n      <th>1</th>\n      <td>40</td>\n      <td>50</td>\n      <td>45</td>\n    </tr>\n  </tbody>\n</table>\n</div>"
     },
     "execution_count": 9,
     "metadata": {},
     "output_type": "execute_result"
    }
   ],
   "source": [
    "combined_ages=pd.DataFrame([(22,24,20),(40,50,45)],columns=['class 1','class 2','class 3'])\n",
    "combined_ages"
   ],
   "metadata": {
    "collapsed": false,
    "pycharm": {
     "name": "#%%\n"
    }
   }
  },
  {
   "cell_type": "code",
   "execution_count": 10,
   "outputs": [
    {
     "data": {
      "text/plain": "       country continent        date  day  month  year  cases  deaths  \\\n0  Afghanistan      Asia  2020-04-12   12      4  2020     34       3   \n1      Albania    Europe  2020-04-12   12      4  2020     17       0   \n2      Algeria    Africa  2020-04-12   12      4  2020     64      19   \n3      Andorra    Europe  2020-04-12   12      4  2020     21       2   \n4       Angola    Africa  2020-04-12   12      4  2020      0       0   \n\n  country_code  population  \n0          AFG  37172386.0  \n1          ALB   2866376.0  \n2          DZA  42228429.0  \n3          AND     77006.0  \n4          AGO  30809762.0  ",
      "text/html": "<div>\n<style scoped>\n    .dataframe tbody tr th:only-of-type {\n        vertical-align: middle;\n    }\n\n    .dataframe tbody tr th {\n        vertical-align: top;\n    }\n\n    .dataframe thead th {\n        text-align: right;\n    }\n</style>\n<table border=\"1\" class=\"dataframe\">\n  <thead>\n    <tr style=\"text-align: right;\">\n      <th></th>\n      <th>country</th>\n      <th>continent</th>\n      <th>date</th>\n      <th>day</th>\n      <th>month</th>\n      <th>year</th>\n      <th>cases</th>\n      <th>deaths</th>\n      <th>country_code</th>\n      <th>population</th>\n    </tr>\n  </thead>\n  <tbody>\n    <tr>\n      <th>0</th>\n      <td>Afghanistan</td>\n      <td>Asia</td>\n      <td>2020-04-12</td>\n      <td>12</td>\n      <td>4</td>\n      <td>2020</td>\n      <td>34</td>\n      <td>3</td>\n      <td>AFG</td>\n      <td>37172386.0</td>\n    </tr>\n    <tr>\n      <th>1</th>\n      <td>Albania</td>\n      <td>Europe</td>\n      <td>2020-04-12</td>\n      <td>12</td>\n      <td>4</td>\n      <td>2020</td>\n      <td>17</td>\n      <td>0</td>\n      <td>ALB</td>\n      <td>2866376.0</td>\n    </tr>\n    <tr>\n      <th>2</th>\n      <td>Algeria</td>\n      <td>Africa</td>\n      <td>2020-04-12</td>\n      <td>12</td>\n      <td>4</td>\n      <td>2020</td>\n      <td>64</td>\n      <td>19</td>\n      <td>DZA</td>\n      <td>42228429.0</td>\n    </tr>\n    <tr>\n      <th>3</th>\n      <td>Andorra</td>\n      <td>Europe</td>\n      <td>2020-04-12</td>\n      <td>12</td>\n      <td>4</td>\n      <td>2020</td>\n      <td>21</td>\n      <td>2</td>\n      <td>AND</td>\n      <td>77006.0</td>\n    </tr>\n    <tr>\n      <th>4</th>\n      <td>Angola</td>\n      <td>Africa</td>\n      <td>2020-04-12</td>\n      <td>12</td>\n      <td>4</td>\n      <td>2020</td>\n      <td>0</td>\n      <td>0</td>\n      <td>AGO</td>\n      <td>30809762.0</td>\n    </tr>\n  </tbody>\n</table>\n</div>"
     },
     "execution_count": 10,
     "metadata": {},
     "output_type": "execute_result"
    }
   ],
   "source": [
    "covid = pd.read_csv('c:\\\\tmp\\\\subset-covid-data.csv')\n",
    "covid.head()"
   ],
   "metadata": {
    "collapsed": false,
    "pycharm": {
     "name": "#%%\n"
    }
   }
  },
  {
   "cell_type": "code",
   "execution_count": 11,
   "outputs": [
    {
     "data": {
      "text/plain": "   batch 1  batch 2  batch 3\n0       22       24       20\n1       40       50       45",
      "text/html": "<div>\n<style scoped>\n    .dataframe tbody tr th:only-of-type {\n        vertical-align: middle;\n    }\n\n    .dataframe tbody tr th {\n        vertical-align: top;\n    }\n\n    .dataframe thead th {\n        text-align: right;\n    }\n</style>\n<table border=\"1\" class=\"dataframe\">\n  <thead>\n    <tr style=\"text-align: right;\">\n      <th></th>\n      <th>batch 1</th>\n      <th>batch 2</th>\n      <th>batch 3</th>\n    </tr>\n  </thead>\n  <tbody>\n    <tr>\n      <th>0</th>\n      <td>22</td>\n      <td>24</td>\n      <td>20</td>\n    </tr>\n    <tr>\n      <th>1</th>\n      <td>40</td>\n      <td>50</td>\n      <td>45</td>\n    </tr>\n  </tbody>\n</table>\n</div>"
     },
     "execution_count": 11,
     "metadata": {},
     "output_type": "execute_result"
    }
   ],
   "source": [
    "combined_ages=pd.DataFrame({'class 1':[22,40],'class 2':[24,50],'class 3':[20,45]})\n",
    "combined_ages.rename(columns={'class 1':'batch 1','class 2':'batch 2','class 3':'batch 3'},inplace=True)\n",
    "combined_ages"
   ],
   "metadata": {
    "collapsed": false,
    "pycharm": {
     "name": "#%%\n"
    }
   }
  },
  {
   "cell_type": "markdown",
   "source": [],
   "metadata": {
    "collapsed": false,
    "pycharm": {
     "name": "#%% md\n"
    }
   }
  },
  {
   "cell_type": "code",
   "execution_count": 18,
   "outputs": [
    {
     "data": {
      "text/plain": "   class 1  class 2  extra  class 3  batch 4  batch 5\n0       22       24     21       20       18       18\n1       40       50     39       45       40       41",
      "text/html": "<div>\n<style scoped>\n    .dataframe tbody tr th:only-of-type {\n        vertical-align: middle;\n    }\n\n    .dataframe tbody tr th {\n        vertical-align: top;\n    }\n\n    .dataframe thead th {\n        text-align: right;\n    }\n</style>\n<table border=\"1\" class=\"dataframe\">\n  <thead>\n    <tr style=\"text-align: right;\">\n      <th></th>\n      <th>class 1</th>\n      <th>class 2</th>\n      <th>extra</th>\n      <th>class 3</th>\n      <th>batch 4</th>\n      <th>batch 5</th>\n    </tr>\n  </thead>\n  <tbody>\n    <tr>\n      <th>0</th>\n      <td>22</td>\n      <td>24</td>\n      <td>21</td>\n      <td>20</td>\n      <td>18</td>\n      <td>18</td>\n    </tr>\n    <tr>\n      <th>1</th>\n      <td>40</td>\n      <td>50</td>\n      <td>39</td>\n      <td>45</td>\n      <td>40</td>\n      <td>41</td>\n    </tr>\n  </tbody>\n</table>\n</div>"
     },
     "execution_count": 18,
     "metadata": {},
     "output_type": "execute_result"
    }
   ],
   "source": [
    "combined_ages=pd.DataFrame([(22,24,20),(40,50,45)],columns=['class 1','class 2','class 3'])\n",
    "combined_ages.replace({22:33})\n",
    "combined_ages['batch 4']=[18,40]\n",
    "combined_ages.insert(2,'extra',[21,39])\n",
    "combined_ages.loc[:,'batch 5']=[18,41]\n",
    "combined_ages"
   ],
   "metadata": {
    "collapsed": false,
    "pycharm": {
     "name": "#%%\n"
    }
   }
  },
  {
   "cell_type": "code",
   "execution_count": null,
   "outputs": [],
   "source": [
    "covid = pd.read_csv('c:\\\\tmp\\\\subset-covid-data.csv')"
   ],
   "metadata": {
    "collapsed": false,
    "pycharm": {
     "name": "#%%\n"
    }
   }
  }
 ],
 "metadata": {
  "kernelspec": {
   "display_name": "Python 3",
   "language": "python",
   "name": "python3"
  },
  "language_info": {
   "codemirror_mode": {
    "name": "ipython",
    "version": 2
   },
   "file_extension": ".py",
   "mimetype": "text/x-python",
   "name": "python",
   "nbconvert_exporter": "python",
   "pygments_lexer": "ipython2",
   "version": "2.7.6"
  }
 },
 "nbformat": 4,
 "nbformat_minor": 0
}